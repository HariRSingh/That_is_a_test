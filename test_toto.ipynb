{
 "cells": [
  {
   "cell_type": "code",
   "execution_count": 4,
   "id": "ca20d92d-49dd-428e-8d4a-516111a20649",
   "metadata": {},
   "outputs": [],
   "source": [
    "import numpy\n"
   ]
  },
  {
   "cell_type": "code",
   "execution_count": 5,
   "id": "634df495-2137-42ef-9744-f30e4478bcac",
   "metadata": {},
   "outputs": [],
   "source": [
    "def fun(a,b):\n",
    "    return a+b"
   ]
  },
  {
   "cell_type": "code",
   "execution_count": 6,
   "id": "b615be8d-c00c-4dd4-b065-edac18fa7ded",
   "metadata": {},
   "outputs": [],
   "source": [
    "a=4\n",
    "b='toto'\n",
    "\n",
    "# 'toto' is a string "
   ]
  },
  {
   "cell_type": "code",
   "execution_count": 15,
   "id": "54d63d5a-02aa-432a-9e9c-90638526e2a6",
   "metadata": {},
   "outputs": [],
   "source": [
    "fun = (str(a),b)"
   ]
  },
  {
   "cell_type": "code",
   "execution_count": null,
   "id": "df957efe-ed64-4da3-866c-be80018c8358",
   "metadata": {},
   "outputs": [],
   "source": []
  },
  {
   "cell_type": "code",
   "execution_count": null,
   "id": "088c4ceb-e12e-4194-95ee-9e8d687b5228",
   "metadata": {},
   "outputs": [],
   "source": []
  }
 ],
 "metadata": {
  "kernelspec": {
   "display_name": "Python 3 (ipykernel)",
   "language": "python",
   "name": "python3"
  },
  "language_info": {
   "codemirror_mode": {
    "name": "ipython",
    "version": 3
   },
   "file_extension": ".py",
   "mimetype": "text/x-python",
   "name": "python",
   "nbconvert_exporter": "python",
   "pygments_lexer": "ipython3",
   "version": "3.9.13"
  }
 },
 "nbformat": 4,
 "nbformat_minor": 5
}
